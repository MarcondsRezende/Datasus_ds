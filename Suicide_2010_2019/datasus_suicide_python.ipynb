{
 "cells": [
  {
   "cell_type": "code",
   "execution_count": 7,
   "metadata": {},
   "outputs": [],
   "source": [
    "import pandas as pd"
   ]
  },
  {
   "cell_type": "code",
   "execution_count": 8,
   "metadata": {},
   "outputs": [],
   "source": [
    "# Input data files are available in the read-only \"../input/\" directory\n",
    "# For example, running this (by clicking run or pressing Shift+Enter) will list all files under the input directory\n",
    "\n",
    "# import os\n",
    "\n",
    "# for dirname, _, filenames in os.walk('/kaggle/input'):\n",
    "#     for filename in filenames:\n",
    "#         print(os.path.join(dirname, filename))"
   ]
  },
  {
   "cell_type": "code",
   "execution_count": 9,
   "metadata": {},
   "outputs": [],
   "source": [
    "# df = pd.read_csv(\"/kaggle/input/dados-de-suicidios-entre-2010-e-2019/suicidios_2010_a_2019.csv\", encoding = \"utf-8\")\n",
    "# df.head()"
   ]
  },
  {
   "cell_type": "code",
   "execution_count": 10,
   "metadata": {},
   "outputs": [
    {
     "name": "stderr",
     "output_type": "stream",
     "text": [
      "C:\\Users\\marco\\AppData\\Local\\Temp\\ipykernel_16412\\3711780389.py:1: DtypeWarning: Columns (9) have mixed types. Specify dtype option on import or set low_memory=False.\n",
      "  df = pd.read_csv(\"C:/Users/marco/OneDrive/Documentos/GitHub/Datasus_ds/Suicide_2010_2019/datasus_df/suicidios_2010_a_2019.csv\", encoding=\"utf-8\")\n"
     ]
    }
   ],
   "source": [
    "df = pd.read_csv(\"C:/Users/marco/OneDrive/Documentos/GitHub/Datasus_ds/Suicide_2010_2019/datasus_df/suicidios_2010_a_2019.csv\", encoding=\"utf-8\")"
   ]
  },
  {
   "cell_type": "code",
   "execution_count": 11,
   "metadata": {},
   "outputs": [
    {
     "data": {
      "text/html": [
       "<div>\n",
       "<style scoped>\n",
       "    .dataframe tbody tr th:only-of-type {\n",
       "        vertical-align: middle;\n",
       "    }\n",
       "\n",
       "    .dataframe tbody tr th {\n",
       "        vertical-align: top;\n",
       "    }\n",
       "\n",
       "    .dataframe thead th {\n",
       "        text-align: right;\n",
       "    }\n",
       "</style>\n",
       "<table border=\"1\" class=\"dataframe\">\n",
       "  <thead>\n",
       "    <tr style=\"text-align: right;\">\n",
       "      <th></th>\n",
       "      <th>Unnamed: 0</th>\n",
       "      <th>estado</th>\n",
       "      <th>ano</th>\n",
       "      <th>mes</th>\n",
       "      <th>DTOBITO</th>\n",
       "      <th>DTNASC</th>\n",
       "      <th>SEXO</th>\n",
       "      <th>RACACOR</th>\n",
       "      <th>ASSISTMED</th>\n",
       "      <th>ESCMAE</th>\n",
       "      <th>ESTCIV</th>\n",
       "      <th>ESC</th>\n",
       "      <th>OCUP</th>\n",
       "      <th>CODMUNRES</th>\n",
       "      <th>CAUSABAS</th>\n",
       "      <th>CAUSABAS_O</th>\n",
       "      <th>LOCOCOR</th>\n",
       "      <th>CIRURGIA</th>\n",
       "    </tr>\n",
       "  </thead>\n",
       "  <tbody>\n",
       "    <tr>\n",
       "      <th>0</th>\n",
       "      <td>1</td>\n",
       "      <td>AC</td>\n",
       "      <td>2010</td>\n",
       "      <td>1</td>\n",
       "      <td>2010-01-31</td>\n",
       "      <td>1999-11-09</td>\n",
       "      <td>Masculino</td>\n",
       "      <td>Parda</td>\n",
       "      <td>NaN</td>\n",
       "      <td>NaN</td>\n",
       "      <td>Solteiro/a</td>\n",
       "      <td>1 a 3 anos</td>\n",
       "      <td>ESTUDANTE</td>\n",
       "      <td>Tarauacá</td>\n",
       "      <td>X780</td>\n",
       "      <td>X780</td>\n",
       "      <td>Via pública</td>\n",
       "      <td>Não</td>\n",
       "    </tr>\n",
       "    <tr>\n",
       "      <th>1</th>\n",
       "      <td>2</td>\n",
       "      <td>AC</td>\n",
       "      <td>2010</td>\n",
       "      <td>2</td>\n",
       "      <td>2010-02-07</td>\n",
       "      <td>1985-09-23</td>\n",
       "      <td>Masculino</td>\n",
       "      <td>Parda</td>\n",
       "      <td>NaN</td>\n",
       "      <td>NaN</td>\n",
       "      <td>Solteiro/a</td>\n",
       "      <td>1 a 3 anos</td>\n",
       "      <td>ESTUDANTE</td>\n",
       "      <td>Tarauacá</td>\n",
       "      <td>X780</td>\n",
       "      <td>X780</td>\n",
       "      <td>Hospital</td>\n",
       "      <td>Não</td>\n",
       "    </tr>\n",
       "    <tr>\n",
       "      <th>2</th>\n",
       "      <td>3</td>\n",
       "      <td>AC</td>\n",
       "      <td>2010</td>\n",
       "      <td>2</td>\n",
       "      <td>2010-02-19</td>\n",
       "      <td>1995-08-06</td>\n",
       "      <td>Masculino</td>\n",
       "      <td>Parda</td>\n",
       "      <td>NaN</td>\n",
       "      <td>NaN</td>\n",
       "      <td>Solteiro/a</td>\n",
       "      <td>1 a 3 anos</td>\n",
       "      <td>ESTUDANTE</td>\n",
       "      <td>Tarauacá</td>\n",
       "      <td>X780</td>\n",
       "      <td>X780</td>\n",
       "      <td>Hospital</td>\n",
       "      <td>Não</td>\n",
       "    </tr>\n",
       "    <tr>\n",
       "      <th>3</th>\n",
       "      <td>4</td>\n",
       "      <td>AC</td>\n",
       "      <td>2010</td>\n",
       "      <td>4</td>\n",
       "      <td>2010-04-20</td>\n",
       "      <td>1983-12-25</td>\n",
       "      <td>Feminino</td>\n",
       "      <td>Parda</td>\n",
       "      <td>NaN</td>\n",
       "      <td>NaN</td>\n",
       "      <td>Casado/a</td>\n",
       "      <td>1 a 3 anos</td>\n",
       "      <td>DONA DE CASA</td>\n",
       "      <td>Tarauacá</td>\n",
       "      <td>X780</td>\n",
       "      <td>X780</td>\n",
       "      <td>Domicílio</td>\n",
       "      <td>Não</td>\n",
       "    </tr>\n",
       "    <tr>\n",
       "      <th>4</th>\n",
       "      <td>5</td>\n",
       "      <td>AC</td>\n",
       "      <td>2010</td>\n",
       "      <td>7</td>\n",
       "      <td>2010-07-24</td>\n",
       "      <td>1982-05-13</td>\n",
       "      <td>Masculino</td>\n",
       "      <td>Parda</td>\n",
       "      <td>NaN</td>\n",
       "      <td>NaN</td>\n",
       "      <td>Casado/a</td>\n",
       "      <td>NaN</td>\n",
       "      <td>DONA DE CASA</td>\n",
       "      <td>Tarauacá</td>\n",
       "      <td>X720</td>\n",
       "      <td>X720</td>\n",
       "      <td>Domicílio</td>\n",
       "      <td>Não</td>\n",
       "    </tr>\n",
       "  </tbody>\n",
       "</table>\n",
       "</div>"
      ],
      "text/plain": [
       "   Unnamed: 0 estado   ano  mes     DTOBITO      DTNASC       SEXO RACACOR  \\\n",
       "0           1     AC  2010    1  2010-01-31  1999-11-09  Masculino   Parda   \n",
       "1           2     AC  2010    2  2010-02-07  1985-09-23  Masculino   Parda   \n",
       "2           3     AC  2010    2  2010-02-19  1995-08-06  Masculino   Parda   \n",
       "3           4     AC  2010    4  2010-04-20  1983-12-25   Feminino   Parda   \n",
       "4           5     AC  2010    7  2010-07-24  1982-05-13  Masculino   Parda   \n",
       "\n",
       "  ASSISTMED ESCMAE      ESTCIV         ESC          OCUP CODMUNRES CAUSABAS  \\\n",
       "0       NaN    NaN  Solteiro/a  1 a 3 anos     ESTUDANTE  Tarauacá     X780   \n",
       "1       NaN    NaN  Solteiro/a  1 a 3 anos     ESTUDANTE  Tarauacá     X780   \n",
       "2       NaN    NaN  Solteiro/a  1 a 3 anos     ESTUDANTE  Tarauacá     X780   \n",
       "3       NaN    NaN    Casado/a  1 a 3 anos  DONA DE CASA  Tarauacá     X780   \n",
       "4       NaN    NaN    Casado/a         NaN  DONA DE CASA  Tarauacá     X720   \n",
       "\n",
       "  CAUSABAS_O      LOCOCOR CIRURGIA  \n",
       "0       X780  Via pública      Não  \n",
       "1       X780     Hospital      Não  \n",
       "2       X780     Hospital      Não  \n",
       "3       X780    Domicílio      Não  \n",
       "4       X720    Domicílio      Não  "
      ]
     },
     "execution_count": 11,
     "metadata": {},
     "output_type": "execute_result"
    }
   ],
   "source": [
    "df.head()"
   ]
  },
  {
   "cell_type": "code",
   "execution_count": 12,
   "metadata": {},
   "outputs": [
    {
     "name": "stdout",
     "output_type": "stream",
     "text": [
      "<class 'pandas.core.frame.DataFrame'>\n",
      "RangeIndex: 112491 entries, 0 to 112490\n",
      "Data columns (total 18 columns):\n",
      " #   Column      Non-Null Count   Dtype \n",
      "---  ------      --------------   ----- \n",
      " 0   Unnamed: 0  112491 non-null  int64 \n",
      " 1   estado      112491 non-null  object\n",
      " 2   ano         112491 non-null  int64 \n",
      " 3   mes         112491 non-null  int64 \n",
      " 4   DTOBITO     112491 non-null  object\n",
      " 5   DTNASC      101633 non-null  object\n",
      " 6   SEXO        112469 non-null  object\n",
      " 7   RACACOR     109320 non-null  object\n",
      " 8   ASSISTMED   70687 non-null   object\n",
      " 9   ESCMAE      15 non-null      object\n",
      " 10  ESTCIV      103791 non-null  object\n",
      " 11  ESC         84327 non-null   object\n",
      " 12  OCUP        60274 non-null   object\n",
      " 13  CODMUNRES   112491 non-null  object\n",
      " 14  CAUSABAS    112491 non-null  object\n",
      " 15  CAUSABAS_O  112204 non-null  object\n",
      " 16  LOCOCOR     112031 non-null  object\n",
      " 17  CIRURGIA    8549 non-null    object\n",
      "dtypes: int64(3), object(15)\n",
      "memory usage: 15.4+ MB\n"
     ]
    }
   ],
   "source": [
    "df.info()"
   ]
  },
  {
   "cell_type": "code",
   "execution_count": 13,
   "metadata": {},
   "outputs": [
    {
     "data": {
      "text/html": [
       "<div>\n",
       "<style scoped>\n",
       "    .dataframe tbody tr th:only-of-type {\n",
       "        vertical-align: middle;\n",
       "    }\n",
       "\n",
       "    .dataframe tbody tr th {\n",
       "        vertical-align: top;\n",
       "    }\n",
       "\n",
       "    .dataframe thead th {\n",
       "        text-align: right;\n",
       "    }\n",
       "</style>\n",
       "<table border=\"1\" class=\"dataframe\">\n",
       "  <thead>\n",
       "    <tr style=\"text-align: right;\">\n",
       "      <th></th>\n",
       "      <th>estado</th>\n",
       "      <th>ano</th>\n",
       "      <th>mes</th>\n",
       "      <th>DTOBITO</th>\n",
       "      <th>DTNASC</th>\n",
       "      <th>SEXO</th>\n",
       "      <th>RACACOR</th>\n",
       "      <th>ASSISTMED</th>\n",
       "      <th>ESTCIV</th>\n",
       "      <th>ESC</th>\n",
       "      <th>OCUP</th>\n",
       "      <th>CODMUNRES</th>\n",
       "      <th>LOCOCOR</th>\n",
       "    </tr>\n",
       "  </thead>\n",
       "  <tbody>\n",
       "  </tbody>\n",
       "</table>\n",
       "</div>"
      ],
      "text/plain": [
       "Empty DataFrame\n",
       "Columns: [estado, ano, mes, DTOBITO, DTNASC, SEXO, RACACOR, ASSISTMED, ESTCIV, ESC, OCUP, CODMUNRES, LOCOCOR]\n",
       "Index: []"
      ]
     },
     "execution_count": 13,
     "metadata": {},
     "output_type": "execute_result"
    }
   ],
   "source": [
    "#We will remove the column \"Unnamed: 0\", \"CAUSABAS\", \"CAUSABAS_O\", \"ESCMAE\", \"CIRURGIA\".\n",
    "\n",
    "df.drop(['Unnamed: 0', 'CAUSABAS', 'CAUSABAS_O', 'ESCMAE', 'CIRURGIA'], axis=1, inplace=True)\n",
    "df.head(0)"
   ]
  },
  {
   "cell_type": "code",
   "execution_count": 14,
   "metadata": {},
   "outputs": [],
   "source": [
    "#To change the column names\n",
    "\n",
    "df.rename(columns={\n",
    "                    'estado':'State',\n",
    "                    'ano':'Year',\n",
    "                    'mes':'Month',\n",
    "                    'DTOBITO':'Death_date',\n",
    "                    'DTNASC':'Born_date',\n",
    "                    'SEXO':'Gender',\n",
    "                    'RACACOR': 'Race',\n",
    "                    'ASSISTMED':'Medical_assistance',\n",
    "                    'ESTCIV':'Civil_state',\n",
    "                    'ESC':'Schooling',\n",
    "                    'OCUP':'Occupation',\n",
    "                    'CODMUNRES':'City',\n",
    "                    'LOCOCOR':'Local',\n",
    "},inplace=True)"
   ]
  },
  {
   "cell_type": "code",
   "execution_count": 15,
   "metadata": {},
   "outputs": [
    {
     "name": "stdout",
     "output_type": "stream",
     "text": [
      "<class 'pandas.core.frame.DataFrame'>\n",
      "RangeIndex: 112491 entries, 0 to 112490\n",
      "Data columns (total 13 columns):\n",
      " #   Column              Non-Null Count   Dtype \n",
      "---  ------              --------------   ----- \n",
      " 0   State               112491 non-null  object\n",
      " 1   Year                112491 non-null  int64 \n",
      " 2   Month               112491 non-null  int64 \n",
      " 3   Death_date          112491 non-null  object\n",
      " 4   Born_date           101633 non-null  object\n",
      " 5   Gender              112469 non-null  object\n",
      " 6   Race                109320 non-null  object\n",
      " 7   Medical_assistance  70687 non-null   object\n",
      " 8   Civil_state         103791 non-null  object\n",
      " 9   Schooling           84327 non-null   object\n",
      " 10  Occupation          60274 non-null   object\n",
      " 11  City                112491 non-null  object\n",
      " 12  Local               112031 non-null  object\n",
      "dtypes: int64(2), object(11)\n",
      "memory usage: 11.2+ MB\n"
     ]
    }
   ],
   "source": [
    "df.info()"
   ]
  },
  {
   "cell_type": "code",
   "execution_count": 16,
   "metadata": {},
   "outputs": [],
   "source": [
    "df['Medical_assistance'].fillna('Em Branco', inplace=True)"
   ]
  },
  {
   "cell_type": "code",
   "execution_count": 17,
   "metadata": {},
   "outputs": [
    {
     "data": {
      "text/plain": [
       "Medical_assistance\n",
       "Não          56318\n",
       "Em Branco    41804\n",
       "Sim          14369\n",
       "Name: count, dtype: int64"
      ]
     },
     "execution_count": 17,
     "metadata": {},
     "output_type": "execute_result"
    }
   ],
   "source": [
    "medical_assistance = df['Medical_assistance']\n",
    "\n",
    "#type(medical_assistance)\n",
    "\n",
    "medical_assistance.value_counts()"
   ]
  },
  {
   "cell_type": "code",
   "execution_count": 18,
   "metadata": {},
   "outputs": [
    {
     "data": {
      "image/png": "[encoded data removed]",
      "text/plain": [
       "<Figure size 640x480 with 1 Axes>"
      ]
     },
     "metadata": {},
     "output_type": "display_data"
    }
   ],
   "source": [
    "#Now let's start analyzing the processed data.\n",
    "\n",
    "import matplotlib.pyplot as plt\n",
    "\n",
    "\n",
    "counts = df['Race'].value_counts()\n",
    "\n",
    "plt.style.use(\"ggplot\")\n",
    "\n",
    "ax = counts.plot(kind='bar', color='royalblue', ec = \"k\", alpha = .6)\n",
    "\n",
    "ax.set_xlabel('Race')\n",
    "ax.set_ylabel('Deaths')\n",
    "\n",
    "\n",
    "ax.set_title('Count of Race')\n",
    "\n",
    "for i, v in enumerate(counts):\n",
    "    ax.annotate(str(v), (i, v), ha='center', va='bottom')\n",
    "\n",
    "plt.show()"
   ]
  },
  {
   "cell_type": "code",
   "execution_count": 19,
   "metadata": {},
   "outputs": [
    {
     "data": {
      "image/png": "[encoded data removed]",
      "text/plain": [
       "<Figure size 640x480 with 1 Axes>"
      ]
     },
     "metadata": {},
     "output_type": "display_data"
    }
   ],
   "source": [
    "# Visualizando o genero que tiveram mais suicidio\n",
    "\n",
    "counts = df['Gender'].value_counts()\n",
    "\n",
    "plt.pie(counts, labels=counts.index, autopct='%1.1f%%', startangle=90)\n",
    "\n",
    "colors = ['royalblue', '#b3c3f3',]\n",
    "\n",
    "plt.pie(counts, labels=counts.index, autopct='%1.1f%%', startangle=90, colors=colors)\n",
    "\n",
    "plt.title('Deaths by Gender')\n",
    "\n",
    "plt.show()"
   ]
  },
  {
   "cell_type": "code",
   "execution_count": 20,
   "metadata": {},
   "outputs": [
    {
     "data": {
      "text/html": [
       "<div>\n",
       "<style scoped>\n",
       "    .dataframe tbody tr th:only-of-type {\n",
       "        vertical-align: middle;\n",
       "    }\n",
       "\n",
       "    .dataframe tbody tr th {\n",
       "        vertical-align: top;\n",
       "    }\n",
       "\n",
       "    .dataframe thead th {\n",
       "        text-align: right;\n",
       "    }\n",
       "</style>\n",
       "<table border=\"1\" class=\"dataframe\">\n",
       "  <thead>\n",
       "    <tr style=\"text-align: right;\">\n",
       "      <th></th>\n",
       "      <th>State</th>\n",
       "      <th>Year</th>\n",
       "      <th>Month</th>\n",
       "      <th>Death_date</th>\n",
       "      <th>Born_date</th>\n",
       "      <th>Gender</th>\n",
       "      <th>Race</th>\n",
       "      <th>Medical_assistance</th>\n",
       "      <th>Civil_state</th>\n",
       "      <th>Schooling</th>\n",
       "      <th>Occupation</th>\n",
       "      <th>City</th>\n",
       "      <th>Local</th>\n",
       "    </tr>\n",
       "  </thead>\n",
       "  <tbody>\n",
       "    <tr>\n",
       "      <th>0</th>\n",
       "      <td>AC</td>\n",
       "      <td>2010</td>\n",
       "      <td>1</td>\n",
       "      <td>2010-01-31</td>\n",
       "      <td>1999-11-09</td>\n",
       "      <td>Masculino</td>\n",
       "      <td>Parda</td>\n",
       "      <td>Em Branco</td>\n",
       "      <td>Solteiro/a</td>\n",
       "      <td>1 a 3 anos</td>\n",
       "      <td>ESTUDANTE</td>\n",
       "      <td>Tarauacá</td>\n",
       "      <td>Via pública</td>\n",
       "    </tr>\n",
       "    <tr>\n",
       "      <th>1</th>\n",
       "      <td>AC</td>\n",
       "      <td>2010</td>\n",
       "      <td>2</td>\n",
       "      <td>2010-02-07</td>\n",
       "      <td>1985-09-23</td>\n",
       "      <td>Masculino</td>\n",
       "      <td>Parda</td>\n",
       "      <td>Em Branco</td>\n",
       "      <td>Solteiro/a</td>\n",
       "      <td>1 a 3 anos</td>\n",
       "      <td>ESTUDANTE</td>\n",
       "      <td>Tarauacá</td>\n",
       "      <td>Hospital</td>\n",
       "    </tr>\n",
       "    <tr>\n",
       "      <th>2</th>\n",
       "      <td>AC</td>\n",
       "      <td>2010</td>\n",
       "      <td>2</td>\n",
       "      <td>2010-02-19</td>\n",
       "      <td>1995-08-06</td>\n",
       "      <td>Masculino</td>\n",
       "      <td>Parda</td>\n",
       "      <td>Em Branco</td>\n",
       "      <td>Solteiro/a</td>\n",
       "      <td>1 a 3 anos</td>\n",
       "      <td>ESTUDANTE</td>\n",
       "      <td>Tarauacá</td>\n",
       "      <td>Hospital</td>\n",
       "    </tr>\n",
       "    <tr>\n",
       "      <th>3</th>\n",
       "      <td>AC</td>\n",
       "      <td>2010</td>\n",
       "      <td>4</td>\n",
       "      <td>2010-04-20</td>\n",
       "      <td>1983-12-25</td>\n",
       "      <td>Feminino</td>\n",
       "      <td>Parda</td>\n",
       "      <td>Em Branco</td>\n",
       "      <td>Casado/a</td>\n",
       "      <td>1 a 3 anos</td>\n",
       "      <td>DONA DE CASA</td>\n",
       "      <td>Tarauacá</td>\n",
       "      <td>Domicílio</td>\n",
       "    </tr>\n",
       "    <tr>\n",
       "      <th>4</th>\n",
       "      <td>AC</td>\n",
       "      <td>2010</td>\n",
       "      <td>7</td>\n",
       "      <td>2010-07-24</td>\n",
       "      <td>1982-05-13</td>\n",
       "      <td>Masculino</td>\n",
       "      <td>Parda</td>\n",
       "      <td>Em Branco</td>\n",
       "      <td>Casado/a</td>\n",
       "      <td>NaN</td>\n",
       "      <td>DONA DE CASA</td>\n",
       "      <td>Tarauacá</td>\n",
       "      <td>Domicílio</td>\n",
       "    </tr>\n",
       "  </tbody>\n",
       "</table>\n",
       "</div>"
      ],
      "text/plain": [
       "  State  Year  Month  Death_date   Born_date     Gender   Race  \\\n",
       "0    AC  2010      1  2010-01-31  1999-11-09  Masculino  Parda   \n",
       "1    AC  2010      2  2010-02-07  1985-09-23  Masculino  Parda   \n",
       "2    AC  2010      2  2010-02-19  1995-08-06  Masculino  Parda   \n",
       "3    AC  2010      4  2010-04-20  1983-12-25   Feminino  Parda   \n",
       "4    AC  2010      7  2010-07-24  1982-05-13  Masculino  Parda   \n",
       "\n",
       "  Medical_assistance Civil_state   Schooling    Occupation      City  \\\n",
       "0          Em Branco  Solteiro/a  1 a 3 anos     ESTUDANTE  Tarauacá   \n",
       "1          Em Branco  Solteiro/a  1 a 3 anos     ESTUDANTE  Tarauacá   \n",
       "2          Em Branco  Solteiro/a  1 a 3 anos     ESTUDANTE  Tarauacá   \n",
       "3          Em Branco    Casado/a  1 a 3 anos  DONA DE CASA  Tarauacá   \n",
       "4          Em Branco    Casado/a         NaN  DONA DE CASA  Tarauacá   \n",
       "\n",
       "         Local  \n",
       "0  Via pública  \n",
       "1     Hospital  \n",
       "2     Hospital  \n",
       "3    Domicílio  \n",
       "4    Domicílio  "
      ]
     },
     "execution_count": 20,
     "metadata": {},
     "output_type": "execute_result"
    }
   ],
   "source": [
    "df.head()"
   ]
  },
  {
   "cell_type": "code",
   "execution_count": 21,
   "metadata": {},
   "outputs": [],
   "source": [
    "# Fazendo a contagem de linhas e consequente morte\n",
    "\n",
    "num_deaths = len(df)"
   ]
  },
  {
   "cell_type": "code",
   "execution_count": 22,
   "metadata": {},
   "outputs": [
    {
     "name": "stdout",
     "output_type": "stream",
     "text": [
      "<class 'pandas.core.frame.DataFrame'>\n",
      "RangeIndex: 112491 entries, 0 to 112490\n",
      "Data columns (total 13 columns):\n",
      " #   Column              Non-Null Count   Dtype \n",
      "---  ------              --------------   ----- \n",
      " 0   State               112491 non-null  object\n",
      " 1   Year                112491 non-null  int64 \n",
      " 2   Month               112491 non-null  int64 \n",
      " 3   Death_date          112491 non-null  object\n",
      " 4   Born_date           101633 non-null  object\n",
      " 5   Gender              112469 non-null  object\n",
      " 6   Race                109320 non-null  object\n",
      " 7   Medical_assistance  112491 non-null  object\n",
      " 8   Civil_state         103791 non-null  object\n",
      " 9   Schooling           84327 non-null   object\n",
      " 10  Occupation          60274 non-null   object\n",
      " 11  City                112491 non-null  object\n",
      " 12  Local               112031 non-null  object\n",
      "dtypes: int64(2), object(11)\n",
      "memory usage: 11.2+ MB\n"
     ]
    }
   ],
   "source": [
    "df.info(0)"
   ]
  },
  {
   "cell_type": "code",
   "execution_count": 23,
   "metadata": {},
   "outputs": [],
   "source": [
    "# Transformando as colunas de data de objeto para date time\n",
    "\n",
    "df['Born_date'] = pd.to_datetime(df['Born_date'], errors='coerce')\n",
    "df['Death_date'] = pd.to_datetime(df['Death_date'], errors='coerce')"
   ]
  },
  {
   "cell_type": "code",
   "execution_count": 24,
   "metadata": {},
   "outputs": [
    {
     "name": "stdout",
     "output_type": "stream",
     "text": [
      "<class 'pandas.core.frame.DataFrame'>\n",
      "RangeIndex: 112491 entries, 0 to 112490\n",
      "Data columns (total 13 columns):\n",
      " #   Column              Non-Null Count   Dtype         \n",
      "---  ------              --------------   -----         \n",
      " 0   State               112491 non-null  object        \n",
      " 1   Year                112491 non-null  int64         \n",
      " 2   Month               112491 non-null  int64         \n",
      " 3   Death_date          112491 non-null  datetime64[ns]\n",
      " 4   Born_date           100749 non-null  datetime64[ns]\n",
      " 5   Gender              112469 non-null  object        \n",
      " 6   Race                109320 non-null  object        \n",
      " 7   Medical_assistance  112491 non-null  object        \n",
      " 8   Civil_state         103791 non-null  object        \n",
      " 9   Schooling           84327 non-null   object        \n",
      " 10  Occupation          60274 non-null   object        \n",
      " 11  City                112491 non-null  object        \n",
      " 12  Local               112031 non-null  object        \n",
      "dtypes: datetime64[ns](2), int64(2), object(9)\n",
      "memory usage: 11.2+ MB\n"
     ]
    }
   ],
   "source": [
    "df.info()"
   ]
  },
  {
   "cell_type": "code",
   "execution_count": 25,
   "metadata": {},
   "outputs": [
    {
     "data": {
      "image/png": "[encoded data removed]",
      "text/plain": [
       "<Figure size 640x480 with 1 Axes>"
      ]
     },
     "metadata": {},
     "output_type": "display_data"
    }
   ],
   "source": [
    "# Assuming you have a DataFrame called df with a 'Year' column\n",
    "counts = df['Year'].value_counts().sort_index()\n",
    "\n",
    "plt.style.use(\"ggplot\")\n",
    "# Criar o gráfico de linha\n",
    "plt.plot(counts.index, counts.values, marker='o', linestyle='-', color='royalblue')\n",
    "\n",
    "# Configurar os rótulos dos eixos\n",
    "plt.xlabel('Years')\n",
    "plt.ylabel('Deaths')\n",
    "\n",
    "# Exibir o gráfico\n",
    "plt.show()"
   ]
  },
  {
   "cell_type": "code",
   "execution_count": 26,
   "metadata": {},
   "outputs": [
    {
     "data": {
      "text/html": [
       "<div>\n",
       "<style scoped>\n",
       "    .dataframe tbody tr th:only-of-type {\n",
       "        vertical-align: middle;\n",
       "    }\n",
       "\n",
       "    .dataframe tbody tr th {\n",
       "        vertical-align: top;\n",
       "    }\n",
       "\n",
       "    .dataframe thead th {\n",
       "        text-align: right;\n",
       "    }\n",
       "</style>\n",
       "<table border=\"1\" class=\"dataframe\">\n",
       "  <thead>\n",
       "    <tr style=\"text-align: right;\">\n",
       "      <th></th>\n",
       "      <th>State</th>\n",
       "      <th>Year</th>\n",
       "      <th>Month</th>\n",
       "      <th>Death_date</th>\n",
       "      <th>Born_date</th>\n",
       "      <th>Gender</th>\n",
       "      <th>Race</th>\n",
       "      <th>Medical_assistance</th>\n",
       "      <th>Civil_state</th>\n",
       "      <th>Schooling</th>\n",
       "      <th>Occupation</th>\n",
       "      <th>City</th>\n",
       "      <th>Local</th>\n",
       "      <th>Years_old</th>\n",
       "    </tr>\n",
       "  </thead>\n",
       "  <tbody>\n",
       "    <tr>\n",
       "      <th>0</th>\n",
       "      <td>AC</td>\n",
       "      <td>2010</td>\n",
       "      <td>1</td>\n",
       "      <td>2010-01-31</td>\n",
       "      <td>1999-11-09</td>\n",
       "      <td>Masculino</td>\n",
       "      <td>Parda</td>\n",
       "      <td>Em Branco</td>\n",
       "      <td>Solteiro/a</td>\n",
       "      <td>1 a 3 anos</td>\n",
       "      <td>ESTUDANTE</td>\n",
       "      <td>Tarauacá</td>\n",
       "      <td>Via pública</td>\n",
       "      <td>10</td>\n",
       "    </tr>\n",
       "    <tr>\n",
       "      <th>1</th>\n",
       "      <td>AC</td>\n",
       "      <td>2010</td>\n",
       "      <td>2</td>\n",
       "      <td>2010-02-07</td>\n",
       "      <td>1985-09-23</td>\n",
       "      <td>Masculino</td>\n",
       "      <td>Parda</td>\n",
       "      <td>Em Branco</td>\n",
       "      <td>Solteiro/a</td>\n",
       "      <td>1 a 3 anos</td>\n",
       "      <td>ESTUDANTE</td>\n",
       "      <td>Tarauacá</td>\n",
       "      <td>Hospital</td>\n",
       "      <td>24</td>\n",
       "    </tr>\n",
       "    <tr>\n",
       "      <th>2</th>\n",
       "      <td>AC</td>\n",
       "      <td>2010</td>\n",
       "      <td>2</td>\n",
       "      <td>2010-02-19</td>\n",
       "      <td>1995-08-06</td>\n",
       "      <td>Masculino</td>\n",
       "      <td>Parda</td>\n",
       "      <td>Em Branco</td>\n",
       "      <td>Solteiro/a</td>\n",
       "      <td>1 a 3 anos</td>\n",
       "      <td>ESTUDANTE</td>\n",
       "      <td>Tarauacá</td>\n",
       "      <td>Hospital</td>\n",
       "      <td>15</td>\n",
       "    </tr>\n",
       "    <tr>\n",
       "      <th>3</th>\n",
       "      <td>AC</td>\n",
       "      <td>2010</td>\n",
       "      <td>4</td>\n",
       "      <td>2010-04-20</td>\n",
       "      <td>1983-12-25</td>\n",
       "      <td>Feminino</td>\n",
       "      <td>Parda</td>\n",
       "      <td>Em Branco</td>\n",
       "      <td>Casado/a</td>\n",
       "      <td>1 a 3 anos</td>\n",
       "      <td>DONA DE CASA</td>\n",
       "      <td>Tarauacá</td>\n",
       "      <td>Domicílio</td>\n",
       "      <td>26</td>\n",
       "    </tr>\n",
       "    <tr>\n",
       "      <th>4</th>\n",
       "      <td>AC</td>\n",
       "      <td>2010</td>\n",
       "      <td>7</td>\n",
       "      <td>2010-07-24</td>\n",
       "      <td>1982-05-13</td>\n",
       "      <td>Masculino</td>\n",
       "      <td>Parda</td>\n",
       "      <td>Em Branco</td>\n",
       "      <td>Casado/a</td>\n",
       "      <td>NaN</td>\n",
       "      <td>DONA DE CASA</td>\n",
       "      <td>Tarauacá</td>\n",
       "      <td>Domicílio</td>\n",
       "      <td>28</td>\n",
       "    </tr>\n",
       "  </tbody>\n",
       "</table>\n",
       "</div>"
      ],
      "text/plain": [
       "  State  Year  Month Death_date  Born_date     Gender   Race  \\\n",
       "0    AC  2010      1 2010-01-31 1999-11-09  Masculino  Parda   \n",
       "1    AC  2010      2 2010-02-07 1985-09-23  Masculino  Parda   \n",
       "2    AC  2010      2 2010-02-19 1995-08-06  Masculino  Parda   \n",
       "3    AC  2010      4 2010-04-20 1983-12-25   Feminino  Parda   \n",
       "4    AC  2010      7 2010-07-24 1982-05-13  Masculino  Parda   \n",
       "\n",
       "  Medical_assistance Civil_state   Schooling    Occupation      City  \\\n",
       "0          Em Branco  Solteiro/a  1 a 3 anos     ESTUDANTE  Tarauacá   \n",
       "1          Em Branco  Solteiro/a  1 a 3 anos     ESTUDANTE  Tarauacá   \n",
       "2          Em Branco  Solteiro/a  1 a 3 anos     ESTUDANTE  Tarauacá   \n",
       "3          Em Branco    Casado/a  1 a 3 anos  DONA DE CASA  Tarauacá   \n",
       "4          Em Branco    Casado/a         NaN  DONA DE CASA  Tarauacá   \n",
       "\n",
       "         Local Years_old  \n",
       "0  Via pública        10  \n",
       "1     Hospital        24  \n",
       "2     Hospital        15  \n",
       "3    Domicílio        26  \n",
       "4    Domicílio        28  "
      ]
     },
     "execution_count": 26,
     "metadata": {},
     "output_type": "execute_result"
    }
   ],
   "source": [
    "# Get years old, when the people dead\n",
    "\n",
    "df['Years_old'] = (df['Death_date'] - df['Born_date']).dt.days/365\n",
    "df['Years_old'] = df['Years_old'].apply(lambda x: '{:.0f}'.format(x))\n",
    "df.head()"
   ]
  },
  {
   "cell_type": "code",
   "execution_count": 27,
   "metadata": {},
   "outputs": [
    {
     "name": "stdout",
     "output_type": "stream",
     "text": [
      "<class 'pandas.core.frame.DataFrame'>\n",
      "RangeIndex: 112491 entries, 0 to 112490\n",
      "Data columns (total 14 columns):\n",
      " #   Column              Non-Null Count   Dtype         \n",
      "---  ------              --------------   -----         \n",
      " 0   State               112491 non-null  object        \n",
      " 1   Year                112491 non-null  int64         \n",
      " 2   Month               112491 non-null  int64         \n",
      " 3   Death_date          112491 non-null  datetime64[ns]\n",
      " 4   Born_date           100749 non-null  datetime64[ns]\n",
      " 5   Gender              112469 non-null  object        \n",
      " 6   Race                109320 non-null  object        \n",
      " 7   Medical_assistance  112491 non-null  object        \n",
      " 8   Civil_state         103791 non-null  object        \n",
      " 9   Schooling           84327 non-null   object        \n",
      " 10  Occupation          60274 non-null   object        \n",
      " 11  City                112491 non-null  object        \n",
      " 12  Local               112031 non-null  object        \n",
      " 13  Years_old           112491 non-null  object        \n",
      "dtypes: datetime64[ns](2), int64(2), object(10)\n",
      "memory usage: 12.0+ MB\n"
     ]
    }
   ],
   "source": [
    "df.info()"
   ]
  },
  {
   "cell_type": "code",
   "execution_count": 28,
   "metadata": {},
   "outputs": [
    {
     "name": "stdout",
     "output_type": "stream",
     "text": [
      "The youngest person to commit suicide was -176, while the oldest was nan, with an average age of 40.0.\n"
     ]
    }
   ],
   "source": [
    "min_age = df['Years_old'].min()\n",
    "max_age = df['Years_old'].max()\n",
    "average_age = df['Years_old'].median()\n",
    "\n",
    "print(f'The youngest person to commit suicide was {min_age}, while the oldest was {max_age}, with an average age of {average_age}.')"
   ]
  },
  {
   "cell_type": "code",
   "execution_count": null,
   "metadata": {},
   "outputs": [
    {
     "data": {
      "text/plain": [
       "39.312523505077095"
      ]
     },
     "execution_count": 49,
     "metadata": {},
     "output_type": "execute_result"
    }
   ],
   "source": [
    "df[df['Race'] == \"Preta\"]['Years_old'].mean()"
   ]
  },
  {
   "cell_type": "code",
   "execution_count": null,
   "metadata": {},
   "outputs": [
    {
     "data": {
      "text/plain": [
       "State                     0\n",
       "Year                      0\n",
       "Month                     0\n",
       "Death_date                0\n",
       "Born_date             11742\n",
       "Gender                   22\n",
       "Race                   3171\n",
       "Medical_assistance        0\n",
       "Civil_state            8700\n",
       "Schooling             28164\n",
       "Occupation            52217\n",
       "City                      0\n",
       "Local                   460\n",
       "Years_old                 0\n",
       "dtype: int64"
      ]
     },
     "execution_count": 28,
     "metadata": {},
     "output_type": "execute_result"
    }
   ],
   "source": [
    "# Why have -176? let's see\n",
    "\n",
    "df.isna().sum()"
   ]
  },
  {
   "cell_type": "code",
   "execution_count": null,
   "metadata": {},
   "outputs": [],
   "source": [
    "# We can assume that negative values occur because the date of birth is not registered. Therefore, we can set a minimum age for a child to be able to commit suicide.\n",
    "# We will also remove these negative values from the \"years_old\" column, but we won't delete them from the dataframe since these rows might be important."
   ]
  },
  {
   "cell_type": "code",
   "execution_count": null,
   "metadata": {},
   "outputs": [],
   "source": [
    "# Now, we will transform all values that are less than 0 into NaN, so they don't affect our dataframe.\n",
    "\n",
    "# import numpy\n",
    "import numpy as np\n",
    "\n",
    "df['Years_old'] = pd.to_numeric(df['Years_old'], errors='coerce')\n",
    "df.loc[df['Years_old'] <= 4, 'Years_old'] = np.nan"
   ]
  },
  {
   "cell_type": "code",
   "execution_count": null,
   "metadata": {},
   "outputs": [
    {
     "data": {
      "text/plain": [
       "State                     0\n",
       "Year                      0\n",
       "Month                     0\n",
       "Death_date                0\n",
       "Born_date             11742\n",
       "Gender                   22\n",
       "Race                   3171\n",
       "Medical_assistance        0\n",
       "Civil_state            8700\n",
       "Schooling             28164\n",
       "Occupation            52217\n",
       "City                      0\n",
       "Local                   460\n",
       "Years_old             11965\n",
       "dtype: int64"
      ]
     },
     "execution_count": 31,
     "metadata": {},
     "output_type": "execute_result"
    }
   ],
   "source": [
    "df.isna().sum()"
   ]
  },
  {
   "cell_type": "code",
   "execution_count": null,
   "metadata": {},
   "outputs": [
    {
     "name": "stdout",
     "output_type": "stream",
     "text": [
      "<class 'pandas.core.frame.DataFrame'>\n",
      "Index: 0 entries\n",
      "Data columns (total 14 columns):\n",
      " #   Column              Non-Null Count  Dtype         \n",
      "---  ------              --------------  -----         \n",
      " 0   State               0 non-null      object        \n",
      " 1   Year                0 non-null      int64         \n",
      " 2   Month               0 non-null      int64         \n",
      " 3   Death_date          0 non-null      datetime64[ns]\n",
      " 4   Born_date           0 non-null      datetime64[ns]\n",
      " 5   Gender              0 non-null      object        \n",
      " 6   Race                0 non-null      object        \n",
      " 7   Medical_assistance  0 non-null      object        \n",
      " 8   Civil_state         0 non-null      object        \n",
      " 9   Schooling           0 non-null      object        \n",
      " 10  Occupation          0 non-null      object        \n",
      " 11  City                0 non-null      object        \n",
      " 12  Local               0 non-null      object        \n",
      " 13  Years_old           0 non-null      float64       \n",
      "dtypes: datetime64[ns](2), float64(1), int64(2), object(9)\n",
      "memory usage: 0.0+ bytes\n"
     ]
    }
   ],
   "source": [
    "# Let's check if there's any row with a value equal to or less than 4, as I don't believe it would be considered a suicide if that's the case.\n",
    "\n",
    "xyz= df[df['Years_old'] <= 4].copy()\n",
    "xyz.info()"
   ]
  },
  {
   "cell_type": "code",
   "execution_count": null,
   "metadata": {},
   "outputs": [
    {
     "data": {
      "text/html": [
       "<div>\n",
       "<style scoped>\n",
       "    .dataframe tbody tr th:only-of-type {\n",
       "        vertical-align: middle;\n",
       "    }\n",
       "\n",
       "    .dataframe tbody tr th {\n",
       "        vertical-align: top;\n",
       "    }\n",
       "\n",
       "    .dataframe thead th {\n",
       "        text-align: right;\n",
       "    }\n",
       "</style>\n",
       "<table border=\"1\" class=\"dataframe\">\n",
       "  <thead>\n",
       "    <tr style=\"text-align: right;\">\n",
       "      <th></th>\n",
       "      <th>State</th>\n",
       "      <th>Year</th>\n",
       "      <th>Month</th>\n",
       "      <th>Death_date</th>\n",
       "      <th>Born_date</th>\n",
       "      <th>Gender</th>\n",
       "      <th>Race</th>\n",
       "      <th>Medical_assistance</th>\n",
       "      <th>Civil_state</th>\n",
       "      <th>Schooling</th>\n",
       "      <th>Occupation</th>\n",
       "      <th>City</th>\n",
       "      <th>Local</th>\n",
       "      <th>Years_old</th>\n",
       "    </tr>\n",
       "  </thead>\n",
       "  <tbody>\n",
       "  </tbody>\n",
       "</table>\n",
       "</div>"
      ],
      "text/plain": [
       "Empty DataFrame\n",
       "Columns: [State, Year, Month, Death_date, Born_date, Gender, Race, Medical_assistance, Civil_state, Schooling, Occupation, City, Local, Years_old]\n",
       "Index: []"
      ]
     },
     "execution_count": 33,
     "metadata": {},
     "output_type": "execute_result"
    }
   ],
   "source": [
    "xyz.head(20)"
   ]
  },
  {
   "cell_type": "code",
   "execution_count": null,
   "metadata": {},
   "outputs": [],
   "source": [
    "# We noticed that there are 4 rows that fall under this criterion. Since it's a very small portion of the dataframe, we can delete them."
   ]
  },
  {
   "cell_type": "code",
   "execution_count": null,
   "metadata": {},
   "outputs": [],
   "source": [
    "# Let's drop those rows that we believe are not suicides because the person did not respond for themselves yet.\n",
    "\n",
    "df.drop(df[df['Years_old'] <= 4].index, inplace=True)"
   ]
  },
  {
   "cell_type": "code",
   "execution_count": null,
   "metadata": {},
   "outputs": [
    {
     "name": "stdout",
     "output_type": "stream",
     "text": [
      "The youngest person to commit suicide was 5.0, while the oldest was 113.0, with an average age of 40.0.\n"
     ]
    }
   ],
   "source": [
    "#Aqui vamos olhar dados como idade minima, media e maxima de suicidios no brasil.\n",
    "min_age = df['Years_old'].min()\n",
    "max_age = df['Years_old'].max()\n",
    "average_age = df['Years_old'].median()\n",
    "\n",
    "print(f'The youngest person to commit suicide was {min_age}, while the oldest was {max_age}, with an average age of {average_age}.')"
   ]
  },
  {
   "cell_type": "code",
   "execution_count": null,
   "metadata": {},
   "outputs": [],
   "source": [
    "# Ok, we have some nan values in born_date, this is the problem, we solve this problem with transform years_old < 0 in 0, but before, we should transform type of years_old"
   ]
  },
  {
   "cell_type": "code",
   "execution_count": null,
   "metadata": {},
   "outputs": [
    {
     "name": "stdout",
     "output_type": "stream",
     "text": [
      "<class 'pandas.core.frame.DataFrame'>\n",
      "RangeIndex: 112491 entries, 0 to 112490\n",
      "Data columns (total 14 columns):\n",
      " #   Column              Non-Null Count   Dtype         \n",
      "---  ------              --------------   -----         \n",
      " 0   State               112491 non-null  object        \n",
      " 1   Year                112491 non-null  int64         \n",
      " 2   Month               112491 non-null  int64         \n",
      " 3   Death_date          112491 non-null  datetime64[ns]\n",
      " 4   Born_date           100749 non-null  datetime64[ns]\n",
      " 5   Gender              112469 non-null  object        \n",
      " 6   Race                109320 non-null  object        \n",
      " 7   Medical_assistance  112491 non-null  object        \n",
      " 8   Civil_state         103791 non-null  object        \n",
      " 9   Schooling           84327 non-null   object        \n",
      " 10  Occupation          60274 non-null   object        \n",
      " 11  City                112491 non-null  object        \n",
      " 12  Local               112031 non-null  object        \n",
      " 13  Years_old           100526 non-null  float64       \n",
      "dtypes: datetime64[ns](2), float64(1), int64(2), object(9)\n",
      "memory usage: 12.0+ MB\n"
     ]
    }
   ],
   "source": [
    "df.info()"
   ]
  },
  {
   "cell_type": "code",
   "execution_count": null,
   "metadata": {},
   "outputs": [
    {
     "data": {
      "text/html": [
       "<div>\n",
       "<style scoped>\n",
       "    .dataframe tbody tr th:only-of-type {\n",
       "        vertical-align: middle;\n",
       "    }\n",
       "\n",
       "    .dataframe tbody tr th {\n",
       "        vertical-align: top;\n",
       "    }\n",
       "\n",
       "    .dataframe thead th {\n",
       "        text-align: right;\n",
       "    }\n",
       "</style>\n",
       "<table border=\"1\" class=\"dataframe\">\n",
       "  <thead>\n",
       "    <tr style=\"text-align: right;\">\n",
       "      <th></th>\n",
       "      <th>State</th>\n",
       "      <th>Year</th>\n",
       "      <th>Month</th>\n",
       "      <th>Death_date</th>\n",
       "      <th>Born_date</th>\n",
       "      <th>Gender</th>\n",
       "      <th>Race</th>\n",
       "      <th>Medical_assistance</th>\n",
       "      <th>Civil_state</th>\n",
       "      <th>Schooling</th>\n",
       "      <th>Occupation</th>\n",
       "      <th>City</th>\n",
       "      <th>Local</th>\n",
       "      <th>Years_old</th>\n",
       "    </tr>\n",
       "  </thead>\n",
       "  <tbody>\n",
       "    <tr>\n",
       "      <th>0</th>\n",
       "      <td>AC</td>\n",
       "      <td>2010</td>\n",
       "      <td>1</td>\n",
       "      <td>2010-01-31</td>\n",
       "      <td>1999-11-09</td>\n",
       "      <td>Masculino</td>\n",
       "      <td>Parda</td>\n",
       "      <td>Em Branco</td>\n",
       "      <td>Solteiro/a</td>\n",
       "      <td>1 a 3 anos</td>\n",
       "      <td>ESTUDANTE</td>\n",
       "      <td>TarauacÃ¡</td>\n",
       "      <td>Via pÃºblica</td>\n",
       "      <td>10.0</td>\n",
       "    </tr>\n",
       "    <tr>\n",
       "      <th>1</th>\n",
       "      <td>AC</td>\n",
       "      <td>2010</td>\n",
       "      <td>2</td>\n",
       "      <td>2010-02-07</td>\n",
       "      <td>1985-09-23</td>\n",
       "      <td>Masculino</td>\n",
       "      <td>Parda</td>\n",
       "      <td>Em Branco</td>\n",
       "      <td>Solteiro/a</td>\n",
       "      <td>1 a 3 anos</td>\n",
       "      <td>ESTUDANTE</td>\n",
       "      <td>TarauacÃ¡</td>\n",
       "      <td>Hospital</td>\n",
       "      <td>24.0</td>\n",
       "    </tr>\n",
       "    <tr>\n",
       "      <th>2</th>\n",
       "      <td>AC</td>\n",
       "      <td>2010</td>\n",
       "      <td>2</td>\n",
       "      <td>2010-02-19</td>\n",
       "      <td>1995-08-06</td>\n",
       "      <td>Masculino</td>\n",
       "      <td>Parda</td>\n",
       "      <td>Em Branco</td>\n",
       "      <td>Solteiro/a</td>\n",
       "      <td>1 a 3 anos</td>\n",
       "      <td>ESTUDANTE</td>\n",
       "      <td>TarauacÃ¡</td>\n",
       "      <td>Hospital</td>\n",
       "      <td>15.0</td>\n",
       "    </tr>\n",
       "    <tr>\n",
       "      <th>3</th>\n",
       "      <td>AC</td>\n",
       "      <td>2010</td>\n",
       "      <td>4</td>\n",
       "      <td>2010-04-20</td>\n",
       "      <td>1983-12-25</td>\n",
       "      <td>Feminino</td>\n",
       "      <td>Parda</td>\n",
       "      <td>Em Branco</td>\n",
       "      <td>Casado/a</td>\n",
       "      <td>1 a 3 anos</td>\n",
       "      <td>DONA DE CASA</td>\n",
       "      <td>TarauacÃ¡</td>\n",
       "      <td>DomicÃ­lio</td>\n",
       "      <td>26.0</td>\n",
       "    </tr>\n",
       "    <tr>\n",
       "      <th>4</th>\n",
       "      <td>AC</td>\n",
       "      <td>2010</td>\n",
       "      <td>7</td>\n",
       "      <td>2010-07-24</td>\n",
       "      <td>1982-05-13</td>\n",
       "      <td>Masculino</td>\n",
       "      <td>Parda</td>\n",
       "      <td>Em Branco</td>\n",
       "      <td>Casado/a</td>\n",
       "      <td>NaN</td>\n",
       "      <td>DONA DE CASA</td>\n",
       "      <td>TarauacÃ¡</td>\n",
       "      <td>DomicÃ­lio</td>\n",
       "      <td>28.0</td>\n",
       "    </tr>\n",
       "  </tbody>\n",
       "</table>\n",
       "</div>"
      ],
      "text/plain": [
       "  State  Year  Month Death_date  Born_date     Gender   Race  \\\n",
       "0    AC  2010      1 2010-01-31 1999-11-09  Masculino  Parda   \n",
       "1    AC  2010      2 2010-02-07 1985-09-23  Masculino  Parda   \n",
       "2    AC  2010      2 2010-02-19 1995-08-06  Masculino  Parda   \n",
       "3    AC  2010      4 2010-04-20 1983-12-25   Feminino  Parda   \n",
       "4    AC  2010      7 2010-07-24 1982-05-13  Masculino  Parda   \n",
       "\n",
       "  Medical_assistance Civil_state   Schooling    Occupation       City  \\\n",
       "0          Em Branco  Solteiro/a  1 a 3 anos     ESTUDANTE  TarauacÃ¡   \n",
       "1          Em Branco  Solteiro/a  1 a 3 anos     ESTUDANTE  TarauacÃ¡   \n",
       "2          Em Branco  Solteiro/a  1 a 3 anos     ESTUDANTE  TarauacÃ¡   \n",
       "3          Em Branco    Casado/a  1 a 3 anos  DONA DE CASA  TarauacÃ¡   \n",
       "4          Em Branco    Casado/a         NaN  DONA DE CASA  TarauacÃ¡   \n",
       "\n",
       "          Local  Years_old  \n",
       "0  Via pÃºblica       10.0  \n",
       "1      Hospital       24.0  \n",
       "2      Hospital       15.0  \n",
       "3    DomicÃ­lio       26.0  \n",
       "4    DomicÃ­lio       28.0  "
      ]
     },
     "execution_count": 39,
     "metadata": {},
     "output_type": "execute_result"
    }
   ],
   "source": [
    "df.head()"
   ]
  },
  {
   "cell_type": "code",
   "execution_count": null,
   "metadata": {},
   "outputs": [
    {
     "data": {
      "text/html": [
       "<div>\n",
       "<style scoped>\n",
       "    .dataframe tbody tr th:only-of-type {\n",
       "        vertical-align: middle;\n",
       "    }\n",
       "\n",
       "    .dataframe tbody tr th {\n",
       "        vertical-align: top;\n",
       "    }\n",
       "\n",
       "    .dataframe thead th {\n",
       "        text-align: right;\n",
       "    }\n",
       "</style>\n",
       "<table border=\"1\" class=\"dataframe\">\n",
       "  <thead>\n",
       "    <tr style=\"text-align: right;\">\n",
       "      <th></th>\n",
       "      <th>State</th>\n",
       "      <th>Year</th>\n",
       "    </tr>\n",
       "  </thead>\n",
       "  <tbody>\n",
       "    <tr>\n",
       "      <th>0</th>\n",
       "      <td>AC</td>\n",
       "      <td>2010</td>\n",
       "    </tr>\n",
       "    <tr>\n",
       "      <th>1</th>\n",
       "      <td>AC</td>\n",
       "      <td>2010</td>\n",
       "    </tr>\n",
       "    <tr>\n",
       "      <th>2</th>\n",
       "      <td>AC</td>\n",
       "      <td>2010</td>\n",
       "    </tr>\n",
       "    <tr>\n",
       "      <th>3</th>\n",
       "      <td>AC</td>\n",
       "      <td>2010</td>\n",
       "    </tr>\n",
       "    <tr>\n",
       "      <th>4</th>\n",
       "      <td>AC</td>\n",
       "      <td>2010</td>\n",
       "    </tr>\n",
       "  </tbody>\n",
       "</table>\n",
       "</div>"
      ],
      "text/plain": [
       "  State  Year\n",
       "0    AC  2010\n",
       "1    AC  2010\n",
       "2    AC  2010\n",
       "3    AC  2010\n",
       "4    AC  2010"
      ]
     },
     "execution_count": 40,
     "metadata": {},
     "output_type": "execute_result"
    }
   ],
   "source": [
    "# Here, we will separate into a new dataset just to be able to create a heatmap graph.\n",
    "\n",
    "deaths_state_year = df[['State', 'Year']]\n",
    "deaths_state_year.head()"
   ]
  },
  {
   "cell_type": "code",
   "execution_count": null,
   "metadata": {},
   "outputs": [
    {
     "name": "stderr",
     "output_type": "stream",
     "text": [
      "C:\\Users\\marco\\AppData\\Local\\Temp\\ipykernel_14980\\1629768146.py:3: SettingWithCopyWarning: \n",
      "A value is trying to be set on a copy of a slice from a DataFrame.\n",
      "Try using .loc[row_indexer,col_indexer] = value instead\n",
      "\n",
      "See the caveats in the documentation: https://pandas.pydata.org/pandas-docs/stable/user_guide/indexing.html#returning-a-view-versus-a-copy\n",
      "  deaths_state_year['Deaths'] = pd.Series(range(1, num_linhas + 1)).astype(int)\n"
     ]
    }
   ],
   "source": [
    "# Let's create a new variable that counts the number of deaths (row by row), and then we will create a new column in this dataset to display it as an integer.\n",
    "num_linhas = len(deaths_state_year)\n",
    "deaths_state_year['Deaths'] = pd.Series(range(1, num_linhas + 1)).astype(int)"
   ]
  },
  {
   "cell_type": "code",
   "execution_count": null,
   "metadata": {},
   "outputs": [
    {
     "name": "stdout",
     "output_type": "stream",
     "text": [
      "<class 'pandas.core.frame.DataFrame'>\n",
      "RangeIndex: 112491 entries, 0 to 112490\n",
      "Data columns (total 3 columns):\n",
      " #   Column  Non-Null Count   Dtype \n",
      "---  ------  --------------   ----- \n",
      " 0   State   112491 non-null  object\n",
      " 1   Year    112491 non-null  int64 \n",
      " 2   Deaths  112491 non-null  int32 \n",
      "dtypes: int32(1), int64(1), object(1)\n",
      "memory usage: 2.1+ MB\n"
     ]
    }
   ],
   "source": [
    "deaths_state_year.info()"
   ]
  },
  {
   "cell_type": "code",
   "execution_count": null,
   "metadata": {},
   "outputs": [
    {
     "data": {
      "text/html": [
       "<div>\n",
       "<style scoped>\n",
       "    .dataframe tbody tr th:only-of-type {\n",
       "        vertical-align: middle;\n",
       "    }\n",
       "\n",
       "    .dataframe tbody tr th {\n",
       "        vertical-align: top;\n",
       "    }\n",
       "\n",
       "    .dataframe thead th {\n",
       "        text-align: right;\n",
       "    }\n",
       "</style>\n",
       "<table border=\"1\" class=\"dataframe\">\n",
       "  <thead>\n",
       "    <tr style=\"text-align: right;\">\n",
       "      <th></th>\n",
       "      <th>State</th>\n",
       "      <th>Year</th>\n",
       "      <th>Deaths</th>\n",
       "    </tr>\n",
       "  </thead>\n",
       "  <tbody>\n",
       "    <tr>\n",
       "      <th>0</th>\n",
       "      <td>AC</td>\n",
       "      <td>2010</td>\n",
       "      <td>1</td>\n",
       "    </tr>\n",
       "    <tr>\n",
       "      <th>1</th>\n",
       "      <td>AC</td>\n",
       "      <td>2010</td>\n",
       "      <td>2</td>\n",
       "    </tr>\n",
       "    <tr>\n",
       "      <th>2</th>\n",
       "      <td>AC</td>\n",
       "      <td>2010</td>\n",
       "      <td>3</td>\n",
       "    </tr>\n",
       "    <tr>\n",
       "      <th>3</th>\n",
       "      <td>AC</td>\n",
       "      <td>2010</td>\n",
       "      <td>4</td>\n",
       "    </tr>\n",
       "    <tr>\n",
       "      <th>4</th>\n",
       "      <td>AC</td>\n",
       "      <td>2010</td>\n",
       "      <td>5</td>\n",
       "    </tr>\n",
       "  </tbody>\n",
       "</table>\n",
       "</div>"
      ],
      "text/plain": [
       "  State  Year  Deaths\n",
       "0    AC  2010       1\n",
       "1    AC  2010       2\n",
       "2    AC  2010       3\n",
       "3    AC  2010       4\n",
       "4    AC  2010       5"
      ]
     },
     "execution_count": 43,
     "metadata": {},
     "output_type": "execute_result"
    }
   ],
   "source": [
    "deaths_state_year.head()"
   ]
  },
  {
   "cell_type": "code",
   "execution_count": null,
   "metadata": {},
   "outputs": [
    {
     "data": {
      "image/png": "[encoded data removed]",
      "text/plain": [
       "<Figure size 1600x900 with 2 Axes>"
      ]
     },
     "metadata": {},
     "output_type": "display_data"
    }
   ],
   "source": [
    "# Here, we will create a heatmap to see which states have the highest number of deaths in the country.\n",
    "\n",
    "import seaborn as sns\n",
    "\n",
    "# Creating the heatmap using the pivot_table function.\n",
    "heatmap_data = deaths_state_year.groupby(['Year', 'State']).size().unstack(fill_value=0)\n",
    "\n",
    "annot_kws={'fontsize': 7, \n",
    "           'fontstyle':'italic',  \n",
    "           'color':\"black\",\n",
    "           'alpha':0.9, \n",
    "           'rotation':\"vertical\",\n",
    "           'verticalalignment':'center'}\n",
    "\n",
    "# Criando o heatmap\n",
    "plt.figure(figsize=(16, 9))\n",
    "sns.heatmap(heatmap_data, cmap='Blues', vmin= 0, fmt='g',robust=True, linewidths=1, annot=True ,annot_kws=annot_kws)\n",
    "plt.title('Heatmap of Deaths by State and Year.')\n",
    "plt.xlabel('State')\n",
    "plt.ylabel('Year')\n",
    "plt.show()"
   ]
  }
 ],
 "metadata": {
  "kernelspec": {
   "display_name": "Python 3",
   "language": "python",
   "name": "python3"
  },
  "language_info": {
   "codemirror_mode": {
    "name": "ipython",
    "version": 3
   },
   "file_extension": ".py",
   "mimetype": "text/x-python",
   "name": "python",
   "nbconvert_exporter": "python",
   "pygments_lexer": "ipython3",
   "version": "3.11.4"
  },
  "orig_nbformat": 4
 },
 "nbformat": 4,
 "nbformat_minor": 2
}
